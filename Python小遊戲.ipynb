{
 "cells": [
  {
   "cell_type": "markdown",
   "metadata": {},
   "source": [
    "# 剪刀石頭布遊戲"
   ]
  },
  {
   "cell_type": "code",
   "execution_count": null,
   "metadata": {},
   "outputs": [],
   "source": [
    "#Rock , Paper , Scissors\n",
    "\n",
    "import random\n",
    "gameList=(\"Rock\",\"Paper\",\"Scissors\")       #產生一個剪刀 石頭 布 陣列,此陣例不會再異動任何值，所以採用tuple\n",
    "gameChoice=random.choice(gameList)         #從 gameList 中隨機排選一個\n",
    "\n",
    "validChoice = 1                            #先定義一個變數，利用它來判斷使用者的輸入是否正確\n",
    "\n",
    "while (validChoice):                       # while 迴圈開始，\n",
    "    userChoice=input(\"Please enter one of following: Rock ,Paper, Scissors\") #讓使用者出拳\n",
    "    if (userChoice in gameList):                                             #判斷使用者的出拳是否正確，正確則異動 validChoice 的值，跳離 while  \n",
    "        validChoice= 0\n",
    "    else:\n",
    "        print(\"You must enter a valid choice\")                             # 使用者若無依規定出拳，給予提示訊息\n",
    "\n",
    "print(\"I choose:\" + gameChoice + \", You choose:\" + userChoice      )           # 輸出電腦與使用者的出拳\n",
    "if (gameChoice==userChoice):                                                   # 判斷輸贏\n",
    "      print(\"Tie\")\n",
    "elif ((gameChoice==\"Rock\" and userChoice==\"Paper\") or\n",
    "      (gameChoice==\"Paper\" and userChoice==\"Scissors\") or\n",
    "      (gameChoice==\"Scissors\" and userChoice==\"Rock\")):\n",
    "      print(\"You win!\")\n",
    "else:\n",
    "      print(\"You Lose\")"
   ]
  },
  {
   "cell_type": "markdown",
   "metadata": {},
   "source": [
    "# 終極密碼"
   ]
  },
  {
   "cell_type": "code",
   "execution_count": null,
   "metadata": {},
   "outputs": [],
   "source": [
    "from random import randint\n",
    " \n",
    "#規定範圍並產生密碼\n",
    "lowest = 1\n",
    "highest = 100\n",
    "answer = randint(lowest, highest)\n",
    " \n",
    "#重複猜數字，直到猜對為止\n",
    "while True:\n",
    "    guess = input('密碼介於 ' + str(lowest) + '-' + str(highest) + ':\\n>>')\n",
    " \n",
    "    #檢查輸入的內容是否為數字\n",
    "    try:\n",
    "        guess = int(guess)  #把字串轉換成整數\n",
    "    except ValueError:  #轉換失敗便要求重新輸入數字\n",
    "        print('格式錯誤，請輸入數字\\n')\n",
    "        continue\n",
    "        \n",
    " #檢查輸入的數字是否介於規定範圍內，如果沒有，請使用者重新輸入\n",
    "    if guess <= lowest or guess >= highest:  #如果guess小於1 或是 大於100\n",
    "        print('請輸入' + str(lowest) + '-' + str(highest) + '之間的整數\\n')   #請輸入1到100的整數\n",
    "        continue #請繼續\n",
    "        \n",
    "        ##判斷有沒有猜中密碼，如果有，請回傳\"猜對了\"並結束遊戲，如果沒有，請更新猜數字的範圍並請使用者重新輸入數字\n",
    "    if guess == answer:\n",
    "        print('猜對了！')\n",
    "        break\n",
    "    elif guess < answer: #如果guess小於答案\n",
    "        lowest = guess\n",
    "    else:   \n",
    "        highest = guess"
   ]
  },
  {
   "cell_type": "code",
   "execution_count": null,
   "metadata": {},
   "outputs": [],
   "source": []
  }
 ],
 "metadata": {
  "kernelspec": {
   "display_name": "Python 3",
   "language": "python",
   "name": "python3"
  },
  "language_info": {
   "codemirror_mode": {
    "name": "ipython",
    "version": 3
   },
   "file_extension": ".py",
   "mimetype": "text/x-python",
   "name": "python",
   "nbconvert_exporter": "python",
   "pygments_lexer": "ipython3",
   "version": "3.8.5"
  }
 },
 "nbformat": 4,
 "nbformat_minor": 4
}
