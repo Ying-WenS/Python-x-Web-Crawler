{
 "cells": [
  {
   "cell_type": "markdown",
   "metadata": {},
   "source": [
    "# 將匯率網站上的匯率表格爬取下來(基準貨幣選台幣、相對貨幣選加元，如下所示)  \n",
    "url:　https://www.cnyes.com/archive/forex/forex_list.aspx"
   ]
  },
  {
   "cell_type": "code",
   "execution_count": 1,
   "metadata": {},
   "outputs": [
    {
     "name": "stdout",
     "output_type": "stream",
     "text": [
      "       商品名稱     成交價      漲跌    漲%   前日收盤價\n",
      "0     澳幣/加幣  0.9288 -0.0026 -0.28  0.9314\n",
      "1  巴西雷亞爾/加幣  0.2480  0.0016  0.65  0.2464\n",
      "2     瑞郎/加幣  1.3398 -0.0064 -0.48  1.3462\n",
      "3  離岸人民幣/加幣  0.1898 -0.0013 -0.68  0.1911\n",
      "4    人民幣/加幣  0.1898 -0.0013 -0.68  0.1911\n"
     ]
    }
   ],
   "source": [
    "import pandas as pd\n",
    "\n",
    "#輸入url\n",
    "url = 'https://www.cnyes.com/archive/forex/forex_list.aspx?bl=last&code=CAD'\n",
    "\n",
    "#爬取網頁頁面(請注意編碼)\n",
    "df_list = pd.read_html(url, encoding=\"utf_8\")\n",
    "df = df_list[0]\n",
    "\n",
    "\n",
    "#儲存網頁資訊(請注意編碼)\n",
    "\n",
    "print(df.head())\n",
    "df.to_csv('cnyes.csv')"
   ]
  },
  {
   "cell_type": "markdown",
   "metadata": {},
   "source": [
    "# 當可以在網址上下頁找出規律時"
   ]
  },
  {
   "cell_type": "code",
   "execution_count": null,
   "metadata": {},
   "outputs": [],
   "source": [
    "\n",
    "import requests\n",
    "from bs4 import BeautifulSoup\n",
    "headers = {'User-Agent' : 'Mozilla/5.0 (Macintosh; Intel Mac OS X 10_14_6) AppleWebKit/537.36 (KHTML, like Gecko) Chrome/89.0.4389.82 Safari/537.36'}\n",
    "url = 'https://www.ptt.cc/bbs/movie/index9503.html'  #把網址改成有規律的參數9503 要把9503 format並用迴圈將數字進行修改\n",
    "page_number = 9503 #先設一個變數\n",
    "\n",
    "while page_number >= 9500: #假設要從9503爬到9500\n",
    "\n",
    "    url = 'https://www.ptt.cc/bbs/movie/index%s.html'%(page_number)   #重新設url變數，將9503format\n",
    "\n",
    "    res = requests.get(url , headers = headers)  #取得回應\n",
    "    soup = BeautifulSoup(res.text, 'html.parser')\n",
    "    article_title_html = soup.select('div[class=\"title\"]')\n",
    "    for each_title in article_title_html:\n",
    "        try:\n",
    "            print(each_title.a.text) #當出現text錯誤，表示該文章遭刪除不能取a，因此使用try\n",
    "            print('https://www.ptt.cc'+each_title.a['href'])\n",
    "        except AttributeError as e: #抓住Attributr進行例外處理\n",
    "            print(each_title) #遇到例外處理時，把each title印出\n",
    "            print(e.args)  #也把錯誤訊息印出\n",
    "            \n",
    "    page_number -=1\n",
    "\n"
   ]
  }
 ],
 "metadata": {
  "kernelspec": {
   "display_name": "Python 3",
   "language": "python",
   "name": "python3"
  },
  "language_info": {
   "codemirror_mode": {
    "name": "ipython",
    "version": 3
   },
   "file_extension": ".py",
   "mimetype": "text/x-python",
   "name": "python",
   "nbconvert_exporter": "python",
   "pygments_lexer": "ipython3",
   "version": "3.8.5"
  }
 },
 "nbformat": 4,
 "nbformat_minor": 4
}
